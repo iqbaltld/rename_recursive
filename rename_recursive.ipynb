{
 "cells": [
  {
   "cell_type": "code",
   "execution_count": null,
   "id": "cb71f605",
   "metadata": {},
   "outputs": [
    {
     "name": "stdout",
     "output_type": "stream",
     "text": [
      "Will replace all 'login' with 'register' in current directory and subdirectories\n",
      "Files/folders to be renamed:\n",
      "\n",
      "Continue? (y/n): y\n",
      "Renaming complete!\n"
     ]
    }
   ],
   "source": [
    "import os\n",
    "\n",
    "# CONFIGURATION - EDIT THESE\n",
    "OLD_WORD = \"register\"    # Word to replace\n",
    "NEW_WORD = \"login\"    # Replacement word\n",
    "\n",
    "def rename_recursive(path):\n",
    "    \"\"\"Recursively rename files and folders\"\"\"\n",
    "    # First process subdirectories (depth-first)\n",
    "    with os.scandir(path) as entries:\n",
    "        for entry in list(entries):  # Convert to list to avoid iterator issues\n",
    "            if entry.is_dir():\n",
    "                rename_recursive(entry.path)  # Recurse into subdirectory\n",
    "                \n",
    "                # Rename the directory itself\n",
    "                if OLD_WORD in entry.name:\n",
    "                    new_name = entry.name.replace(OLD_WORD, NEW_WORD)\n",
    "                    try:\n",
    "                        os.rename(entry.path, os.path.join(path, new_name))\n",
    "                        print(f\"Renamed folder: {entry.path} → {new_name}\")\n",
    "                    except Exception as e:\n",
    "                        print(f\"Error renaming folder {entry.path}: {e}\")\n",
    "    \n",
    "    # Then process files in current directory\n",
    "    with os.scandir(path) as entries:\n",
    "        for entry in list(entries):\n",
    "            if entry.is_file() and OLD_WORD in entry.name:\n",
    "                new_name = entry.name.replace(OLD_WORD, NEW_WORD)\n",
    "                try:\n",
    "                    os.rename(entry.path, os.path.join(path, new_name))\n",
    "                    print(f\"Renamed file: {entry.path} → {new_name}\")\n",
    "                except Exception as e:\n",
    "                    print(f\"Error renaming file {entry.path}: {e}\")\n",
    "\n",
    "if __name__ == \"__main__\":\n",
    "    print(f\"Will replace all '{OLD_WORD}' with '{NEW_WORD}' in current directory and subdirectories\")\n",
    "    print(\"Files/folders to be renamed:\")\n",
    "    \n",
    "    # First show what will be changed\n",
    "    for root, dirs, files in os.walk(\".\"):\n",
    "        for name in dirs + files:\n",
    "            if OLD_WORD in name:\n",
    "                print(f\"  {os.path.join(root, name)} → {name.replace(OLD_WORD, NEW_WORD)}\")\n",
    "    \n",
    "    confirm = input(\"\\nContinue? (y/n): \").lower()\n",
    "    if confirm == 'y':\n",
    "        rename_recursive(\".\")\n",
    "        print(\"Renaming complete!\")\n",
    "    else:\n",
    "        print(\"Operation cancelled.\")"
   ]
  },
  {
   "cell_type": "code",
   "execution_count": null,
   "id": "9e38b4c7",
   "metadata": {},
   "outputs": [],
   "source": []
  }
 ],
 "metadata": {
  "kernelspec": {
   "display_name": "Python 3 (ipykernel)",
   "language": "python",
   "name": "python3"
  },
  "language_info": {
   "codemirror_mode": {
    "name": "ipython",
    "version": 3
   },
   "file_extension": ".py",
   "mimetype": "text/x-python",
   "name": "python",
   "nbconvert_exporter": "python",
   "pygments_lexer": "ipython3",
   "version": "3.9.12"
  }
 },
 "nbformat": 4,
 "nbformat_minor": 5
}
